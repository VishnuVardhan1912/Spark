{
 "cells": [
  {
   "cell_type": "code",
   "execution_count": 1,
   "id": "e974a4e3",
   "metadata": {},
   "outputs": [],
   "source": [
    "def test():\n",
    "    pass"
   ]
  },
  {
   "cell_type": "code",
   "execution_count": 2,
   "id": "b8c58f75",
   "metadata": {},
   "outputs": [],
   "source": [
    "def test1():\n",
    "    print(\"This is my first function\")"
   ]
  },
  {
   "cell_type": "code",
   "execution_count": 3,
   "id": "d6615c4e",
   "metadata": {},
   "outputs": [
    {
     "name": "stdout",
     "output_type": "stream",
     "text": [
      "This is my first function\n"
     ]
    }
   ],
   "source": [
    "test1()"
   ]
  },
  {
   "cell_type": "code",
   "execution_count": 4,
   "id": "815cb31f",
   "metadata": {},
   "outputs": [
    {
     "name": "stdout",
     "output_type": "stream",
     "text": [
      "This is my first function\n"
     ]
    }
   ],
   "source": [
    "a = test1()"
   ]
  },
  {
   "cell_type": "code",
   "execution_count": 5,
   "id": "c0d17575",
   "metadata": {},
   "outputs": [
    {
     "ename": "TypeError",
     "evalue": "unsupported operand type(s) for +: 'NoneType' and 'str'",
     "output_type": "error",
     "traceback": [
      "\u001b[1;31m---------------------------------------------------------------------------\u001b[0m",
      "\u001b[1;31mTypeError\u001b[0m                                 Traceback (most recent call last)",
      "\u001b[1;32m<ipython-input-5-3650d5817b37>\u001b[0m in \u001b[0;36m<module>\u001b[1;34m\u001b[0m\n\u001b[1;32m----> 1\u001b[1;33m \u001b[0ma\u001b[0m \u001b[1;33m+\u001b[0m \u001b[1;34m\"sudha\"\u001b[0m\u001b[1;33m\u001b[0m\u001b[1;33m\u001b[0m\u001b[0m\n\u001b[0m",
      "\u001b[1;31mTypeError\u001b[0m: unsupported operand type(s) for +: 'NoneType' and 'str'"
     ]
    }
   ],
   "source": [
    "a + \"sudha\""
   ]
  },
  {
   "cell_type": "code",
   "execution_count": 6,
   "id": "acc73c99",
   "metadata": {},
   "outputs": [
    {
     "data": {
      "text/plain": [
       "'None'"
      ]
     },
     "execution_count": 6,
     "metadata": {},
     "output_type": "execute_result"
    }
   ],
   "source": [
    "str(a) # None type is a datatype"
   ]
  },
  {
   "cell_type": "code",
   "execution_count": 7,
   "id": "5e8757c0",
   "metadata": {},
   "outputs": [],
   "source": [
    "def test2():\n",
    "    return \"this is my function\""
   ]
  },
  {
   "cell_type": "code",
   "execution_count": 8,
   "id": "535f35fb",
   "metadata": {},
   "outputs": [
    {
     "data": {
      "text/plain": [
       "str"
      ]
     },
     "execution_count": 8,
     "metadata": {},
     "output_type": "execute_result"
    }
   ],
   "source": [
    "type(test2())"
   ]
  },
  {
   "cell_type": "code",
   "execution_count": 9,
   "id": "4dcbb27a",
   "metadata": {},
   "outputs": [
    {
     "data": {
      "text/plain": [
       "'this is my functionsudh'"
      ]
     },
     "execution_count": 9,
     "metadata": {},
     "output_type": "execute_result"
    }
   ],
   "source": [
    "test2() + \"sudh\""
   ]
  },
  {
   "cell_type": "code",
   "execution_count": 10,
   "id": "e338a061",
   "metadata": {},
   "outputs": [],
   "source": [
    "def test3():\n",
    "    return 23456"
   ]
  },
  {
   "cell_type": "code",
   "execution_count": 11,
   "id": "dbbf57da",
   "metadata": {},
   "outputs": [
    {
     "data": {
      "text/plain": [
       "int"
      ]
     },
     "execution_count": 11,
     "metadata": {},
     "output_type": "execute_result"
    }
   ],
   "source": [
    "type(test3())"
   ]
  },
  {
   "cell_type": "code",
   "execution_count": 12,
   "id": "35c472e5",
   "metadata": {},
   "outputs": [],
   "source": [
    "def test4():\n",
    "    return 4, 3, \"sudh\", [1, 2, 3, 4, 5]"
   ]
  },
  {
   "cell_type": "code",
   "execution_count": 13,
   "id": "9530bbc1",
   "metadata": {},
   "outputs": [
    {
     "data": {
      "text/plain": [
       "(4, 3, 'sudh', [1, 2, 3, 4, 5])"
      ]
     },
     "execution_count": 13,
     "metadata": {},
     "output_type": "execute_result"
    }
   ],
   "source": [
    "test4()"
   ]
  },
  {
   "cell_type": "code",
   "execution_count": 14,
   "id": "e9801063",
   "metadata": {},
   "outputs": [
    {
     "data": {
      "text/plain": [
       "tuple"
      ]
     },
     "execution_count": 14,
     "metadata": {},
     "output_type": "execute_result"
    }
   ],
   "source": [
    "type(test4())"
   ]
  },
  {
   "cell_type": "code",
   "execution_count": 15,
   "id": "800062a9",
   "metadata": {},
   "outputs": [],
   "source": [
    "b = test4()"
   ]
  },
  {
   "cell_type": "code",
   "execution_count": 16,
   "id": "6d0f0e75",
   "metadata": {},
   "outputs": [
    {
     "data": {
      "text/plain": [
       "(4, 3, 'sudh', [1, 2, 3, 4, 5])"
      ]
     },
     "execution_count": 16,
     "metadata": {},
     "output_type": "execute_result"
    }
   ],
   "source": [
    "b"
   ]
  },
  {
   "cell_type": "code",
   "execution_count": 17,
   "id": "0f13e325",
   "metadata": {},
   "outputs": [
    {
     "data": {
      "text/plain": [
       "3"
      ]
     },
     "execution_count": 17,
     "metadata": {},
     "output_type": "execute_result"
    }
   ],
   "source": [
    "b[1]"
   ]
  },
  {
   "cell_type": "code",
   "execution_count": 18,
   "id": "cbe513a8",
   "metadata": {},
   "outputs": [
    {
     "data": {
      "text/plain": [
       "[1, 2, 3, 4, 5]"
      ]
     },
     "execution_count": 18,
     "metadata": {},
     "output_type": "execute_result"
    }
   ],
   "source": [
    "b[3]"
   ]
  },
  {
   "cell_type": "code",
   "execution_count": 20,
   "id": "a95844ef",
   "metadata": {},
   "outputs": [],
   "source": [
    "x, y, u, v = test4()"
   ]
  },
  {
   "cell_type": "code",
   "execution_count": 21,
   "id": "b7a35ff9",
   "metadata": {},
   "outputs": [
    {
     "data": {
      "text/plain": [
       "4"
      ]
     },
     "execution_count": 21,
     "metadata": {},
     "output_type": "execute_result"
    }
   ],
   "source": [
    "x"
   ]
  },
  {
   "cell_type": "code",
   "execution_count": 22,
   "id": "d5cd1f48",
   "metadata": {},
   "outputs": [
    {
     "data": {
      "text/plain": [
       "3"
      ]
     },
     "execution_count": 22,
     "metadata": {},
     "output_type": "execute_result"
    }
   ],
   "source": [
    "y"
   ]
  },
  {
   "cell_type": "code",
   "execution_count": 23,
   "id": "4b0f0e0d",
   "metadata": {},
   "outputs": [
    {
     "data": {
      "text/plain": [
       "'sudh'"
      ]
     },
     "execution_count": 23,
     "metadata": {},
     "output_type": "execute_result"
    }
   ],
   "source": [
    "u"
   ]
  },
  {
   "cell_type": "code",
   "execution_count": 24,
   "id": "0318ab9c",
   "metadata": {},
   "outputs": [
    {
     "data": {
      "text/plain": [
       "[1, 2, 3, 4, 5]"
      ]
     },
     "execution_count": 24,
     "metadata": {},
     "output_type": "execute_result"
    }
   ],
   "source": [
    "v"
   ]
  },
  {
   "cell_type": "code",
   "execution_count": 25,
   "id": "c73e0a4f",
   "metadata": {},
   "outputs": [],
   "source": [
    "def test5():\n",
    "    a = 6*7 / 6\n",
    "    return a"
   ]
  },
  {
   "cell_type": "code",
   "execution_count": 26,
   "id": "ee14d50e",
   "metadata": {},
   "outputs": [
    {
     "data": {
      "text/plain": [
       "7.0"
      ]
     },
     "execution_count": 26,
     "metadata": {},
     "output_type": "execute_result"
    }
   ],
   "source": [
    "test5()"
   ]
  },
  {
   "cell_type": "code",
   "execution_count": 27,
   "id": "429cbf49",
   "metadata": {},
   "outputs": [],
   "source": [
    "l = [3, 4, 5, 6, 7, 7, \"sudh\", [1, 3, 4, 54, 56]]"
   ]
  },
  {
   "cell_type": "code",
   "execution_count": 28,
   "id": "493413e3",
   "metadata": {},
   "outputs": [],
   "source": [
    "def test6(a):\n",
    "    n = []\n",
    "    if type(a) == list:\n",
    "        for i in a:\n",
    "            if type(i) == int:\n",
    "                n.append(i)\n",
    "    return n"
   ]
  },
  {
   "cell_type": "code",
   "execution_count": 29,
   "id": "d0ccb5e9",
   "metadata": {},
   "outputs": [
    {
     "data": {
      "text/plain": [
       "[3, 4, 5, 6, 7, 7]"
      ]
     },
     "execution_count": 29,
     "metadata": {},
     "output_type": "execute_result"
    }
   ],
   "source": [
    "test6(l)"
   ]
  },
  {
   "cell_type": "code",
   "execution_count": 31,
   "id": "3a2203f8",
   "metadata": {},
   "outputs": [
    {
     "data": {
      "text/plain": [
       "list"
      ]
     },
     "execution_count": 31,
     "metadata": {},
     "output_type": "execute_result"
    }
   ],
   "source": [
    "type(test6(l))"
   ]
  },
  {
   "cell_type": "code",
   "execution_count": 46,
   "id": "a31ce017",
   "metadata": {},
   "outputs": [],
   "source": [
    "def test7(d):\n",
    "    list1 = []\n",
    "    if type(d) == dict:\n",
    "        return d.keys()\n",
    "    else:\n",
    "        return \"you have not passed dictionary\"\n",
    "    "
   ]
  },
  {
   "cell_type": "code",
   "execution_count": 47,
   "id": "99d1a3ac",
   "metadata": {},
   "outputs": [],
   "source": [
    "dic = {\"fname\": \"vishnu\",\n",
    "      \"lname\": \"vardhan\"}"
   ]
  },
  {
   "cell_type": "code",
   "execution_count": 48,
   "id": "eecc0c29",
   "metadata": {},
   "outputs": [
    {
     "data": {
      "text/plain": [
       "dict_keys(['fname', 'lname'])"
      ]
     },
     "execution_count": 48,
     "metadata": {},
     "output_type": "execute_result"
    }
   ],
   "source": [
    "test7(dic)"
   ]
  },
  {
   "cell_type": "code",
   "execution_count": 49,
   "id": "083a30cd",
   "metadata": {},
   "outputs": [
    {
     "data": {
      "text/plain": [
       "dict_keys"
      ]
     },
     "execution_count": 49,
     "metadata": {},
     "output_type": "execute_result"
    }
   ],
   "source": [
    "type(test7(dic))"
   ]
  },
  {
   "cell_type": "code",
   "execution_count": 53,
   "id": "84bce0e7",
   "metadata": {},
   "outputs": [],
   "source": [
    "def test8(list1, list2):\n",
    "    if type(list1) == list and type(list2) == list:\n",
    "        list1.extend(list2)\n",
    "        return list1\n",
    "    else:\n",
    "        return \"you have not passed list\""
   ]
  },
  {
   "cell_type": "code",
   "execution_count": 54,
   "id": "672aa0a0",
   "metadata": {},
   "outputs": [],
   "source": [
    "l = [34, 5, 43, 43, 34543]\n",
    "r = [[2342, 543, 534, 534], 243, 54, 55, 55]"
   ]
  },
  {
   "cell_type": "code",
   "execution_count": 55,
   "id": "7b3a5a8c",
   "metadata": {},
   "outputs": [
    {
     "data": {
      "text/plain": [
       "[34, 5, 43, 43, 34543, [2342, 543, 534, 534], 243, 54, 55, 55]"
      ]
     },
     "execution_count": 55,
     "metadata": {},
     "output_type": "execute_result"
    }
   ],
   "source": [
    "test8(l, r)"
   ]
  },
  {
   "cell_type": "code",
   "execution_count": 65,
   "id": "a64be2ce",
   "metadata": {},
   "outputs": [],
   "source": [
    "def test9(n):\n",
    "    \"\"\"this is function which will help you to create a triangle with any no of rows\"\"\"\n",
    "    for i in range(0, n):\n",
    "        for j in range(0, i+1):\n",
    "            print(\"*\", end= \" \")\n",
    "        print(\"\\n\")"
   ]
  },
  {
   "cell_type": "code",
   "execution_count": 66,
   "id": "26ee64f5",
   "metadata": {},
   "outputs": [
    {
     "name": "stdout",
     "output_type": "stream",
     "text": [
      "* \n",
      "\n",
      "* * \n",
      "\n",
      "* * * \n",
      "\n"
     ]
    }
   ],
   "source": [
    "test9(3)"
   ]
  },
  {
   "cell_type": "code",
   "execution_count": 67,
   "id": "a89b3a6a",
   "metadata": {},
   "outputs": [
    {
     "name": "stdout",
     "output_type": "stream",
     "text": [
      "    * \n",
      "\n",
      "   * * \n",
      "\n",
      "  * * * \n",
      "\n",
      " * * * * \n",
      "\n",
      "* * * * * \n",
      "\n"
     ]
    }
   ],
   "source": [
    "def test10(row_num):\n",
    "    k = row_num - 1\n",
    "    \n",
    "    for i in range(0, row_num):\n",
    "        for j in range(0, k):\n",
    "            print(end=\" \")\n",
    "        k = k -1\n",
    "        \n",
    "        for j in range(0, i+1):\n",
    "            print(\"*\", end= \" \")\n",
    "        \n",
    "        print(\"\\n\")\n",
    "test10(5)"
   ]
  },
  {
   "cell_type": "code",
   "execution_count": 69,
   "id": "bef4bd70",
   "metadata": {},
   "outputs": [
    {
     "name": "stdout",
     "output_type": "stream",
     "text": [
      "Help on function test9 in module __main__:\n",
      "\n",
      "test9(n)\n",
      "    this is function which will help you to create a triangle with any no of rows\n",
      "\n"
     ]
    }
   ],
   "source": [
    "help(test9)"
   ]
  },
  {
   "cell_type": "code",
   "execution_count": 70,
   "id": "8129d9db",
   "metadata": {},
   "outputs": [
    {
     "name": "stdout",
     "output_type": "stream",
     "text": [
      "* \n",
      "\n",
      "* * \n",
      "\n",
      "* * * \n",
      "\n",
      "* * * * \n",
      "\n",
      "* * * * * \n",
      "\n",
      "Help on NoneType object:\n",
      "\n",
      "class NoneType(object)\n",
      " |  Methods defined here:\n",
      " |  \n",
      " |  __bool__(self, /)\n",
      " |      self != 0\n",
      " |  \n",
      " |  __repr__(self, /)\n",
      " |      Return repr(self).\n",
      " |  \n",
      " |  ----------------------------------------------------------------------\n",
      " |  Static methods defined here:\n",
      " |  \n",
      " |  __new__(*args, **kwargs) from builtins.type\n",
      " |      Create and return a new object.  See help(type) for accurate signature.\n",
      "\n"
     ]
    }
   ],
   "source": [
    "help(test9(5))"
   ]
  },
  {
   "cell_type": "code",
   "execution_count": 74,
   "id": "0e2e2120",
   "metadata": {},
   "outputs": [],
   "source": [
    "def length(string):\n",
    "    \"\"\"This function will take input as string and returns the length of a string in integer.\"\"\"\n",
    "    if type(string) == str:\n",
    "        k = 0\n",
    "        for i in string:\n",
    "            k = k+1\n",
    "    else:\n",
    "        return \"you have not given input as a string\"\n",
    "    return k"
   ]
  },
  {
   "cell_type": "code",
   "execution_count": 73,
   "id": "102afa1c",
   "metadata": {},
   "outputs": [
    {
     "data": {
      "text/plain": [
       "6"
      ]
     },
     "execution_count": 73,
     "metadata": {},
     "output_type": "execute_result"
    }
   ],
   "source": [
    "length(\"vishnu\")"
   ]
  },
  {
   "cell_type": "code",
   "execution_count": null,
   "id": "23a61448",
   "metadata": {},
   "outputs": [],
   "source": [
    "def index_of_premitive():"
   ]
  }
 ],
 "metadata": {
  "kernelspec": {
   "display_name": "Python 3",
   "language": "python",
   "name": "python3"
  },
  "language_info": {
   "codemirror_mode": {
    "name": "ipython",
    "version": 3
   },
   "file_extension": ".py",
   "mimetype": "text/x-python",
   "name": "python",
   "nbconvert_exporter": "python",
   "pygments_lexer": "ipython3",
   "version": "3.8.8"
  }
 },
 "nbformat": 4,
 "nbformat_minor": 5
}
